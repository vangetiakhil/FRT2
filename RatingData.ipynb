{
 "cells": [
  {
   "cell_type": "code",
   "execution_count": 42,
   "metadata": {},
   "outputs": [],
   "source": [
    "import pandas as pd\n",
    "import numpy as np\n",
    "import selenium\n",
    "from selenium import webdriver\n",
    "import warnings\n",
    "import time\n",
    "from selenium.common.exceptions import NoSuchElementException\n",
    "from selenium.common.exceptions import ElementNotInteractableException\n",
    "\n",
    "warnings.filterwarnings(\"ignore\")"
   ]
  },
  {
   "cell_type": "code",
   "execution_count": 96,
   "metadata": {},
   "outputs": [],
   "source": [
    "#connecting the webdriver\n",
    "driver = webdriver.Chrome(r'C:\\Users\\AKHIL\\Downloads\\chromedriver_win32\\chromedriver.exe')"
   ]
  },
  {
   "cell_type": "code",
   "execution_count": 97,
   "metadata": {},
   "outputs": [],
   "source": [
    "#maximizing the window just in case for any data not to be missed\n",
    "driver.maximize_window()"
   ]
  },
  {
   "cell_type": "markdown",
   "metadata": {},
   "source": [
    "The reviews and ratings will be scraped for the following products:-\n",
    "\n",
    "1) Phones, \n",
    "2) Laptops, \n",
    "3) Headphones, \n",
    "4) Smart watches, \n",
    "5) Professional cameras, \n",
    "6) Printers, \n",
    "7) Monitors, \n",
    "8) Home theatre, \n",
    "9) Router\n",
    "\n",
    "The data will be scraped from amazon, flipkart, snapdeal untill the target of data points is acheived"
   ]
  },
  {
   "cell_type": "code",
   "execution_count": 98,
   "metadata": {},
   "outputs": [],
   "source": [
    "# Loading amazon.in\n",
    "url = \"https://www.amazon.in/\"\n",
    "driver.get(url)"
   ]
  },
  {
   "cell_type": "markdown",
   "metadata": {},
   "source": [
    "Need to scrape atleast 20000 rows with equal amount of 1star , 2star, 3star, 4star and 5star values in order to avoid data imbalances in ratings column while building a model."
   ]
  },
  {
   "cell_type": "markdown",
   "metadata": {},
   "source": [
    "approximately 4000 rows for each star to perfectly balance"
   ]
  },
  {
   "cell_type": "code",
   "execution_count": 122,
   "metadata": {},
   "outputs": [],
   "source": [
    "#List of products for which reviews has to be collected\n",
    "products = [\"Smart Phone\",\"Laptop\", \"Headphones\", \"Smart watch\",\n",
    "            \"Professional camera\", \"Printer\", \"Monitor\", \"Home theater\", \"Router\"]\n",
    "\n",
    "#list of data values to be collected for\n",
    "columns = [\"Product type\", \"Title\", \"Review\", \"Rating\"]\n",
    "\n",
    "#creating an empty dataframe to which the data scraped will be added\n",
    "df = pd.DataFrame({} , columns = columns)"
   ]
  },
  {
   "cell_type": "markdown",
   "metadata": {},
   "source": [
    "There might be some exceptions raised beacuse... \n",
    "\n",
    "few reviews have only title and no content , Some products doesnt have even a single review, some products have very less reviews and doesnt need many pages to show all the reviews..."
   ]
  },
  {
   "cell_type": "code",
   "execution_count": 123,
   "metadata": {
    "collapsed": true
   },
   "outputs": [
    {
     "name": "stdout",
     "output_type": "stream",
     "text": [
      "No reviews for the product  I KALL K320 Smartphone (6.53 HD+ Display, 4GB Ram, 64GB Storage, Dual Sim, 4G Volte) (Blue)\n",
      "No reviews for the product  I KALL K5 Smartphone (5.5 Inch, 2GB Ram, 16GB Storage, Dual Sim, 4G Volte)\n",
      "No reviews for the product  I KALL K200 Smartphone (5.5 Inch, 2GB, 16GB) (Gold)\n",
      "No reviews for the product  Dell Inspiron 3505 15.6\" HD Display Laptop (Athlon Silver 3050U / 4GB / 256GB SSD / Integrated Graphics / Win10 + MSO) D560483WIN9BE\n",
      "No reviews for the product  Lenovo IdeaPad Slim 3i (82H801CSIN) 15.6\" FHD Laptop (Core i5-1135G7 / 8GB /256GB SSD /Iris Xe Graphics /Win 10 /Office'19) Arctic Grey\n",
      "No reviews for the product  ASUS VivoBook 14 (2020), 14-inch (35.56 cms) Full HD, AMD Ryzen 3 3250U, Thin and Light Laptop (4GB RAM/1TB HDD/Integrated Graphics/Windows 10/Slate Grey/1.6 kg), M415DA-EB301T\n",
      "No reviews for the product  (Renewed) Dell Latitude Laptop E5470 Intel Core i5 6th Gen. - 6200u Processor, 8 GB Ram & 512 GB SSD, 14.1 Inches HD Screen Notebook Computer\n",
      "No reviews for the product  Lenovo V15 (2021) Intel Core i3 10th Gen 15.6\" FHD Thin and Light Laptop (4GB RAM/ 1TB HDD/ Windows 10 Home/ Iron Grey/ 1.85 kg), 82C500XWIH\n",
      "No reviews for the product  ARIDHMAN Bluetooth Wireless Earphones White Bluetooth5.0Sport Wireless Earbuds in Ear with Charging Case Built in Mic 20Hours Playtime Stereo SoundIPX6 Sweatproof Wireless Earphones for Android Mobile\n",
      "No reviews for the product  RKS Smart Watch T500 Calling|SMS|Exercise Mode|Heart Rate Monitor High Definition HD Smart Watch Compatible with Any Andriod Phone\n",
      "No reviews for the product  VILLARRICA ID116 Plus Bluetooth Fitness Smart Watch for Men Women and Kids Activity Tracker (Black)\n",
      "No reviews for the product  Full HD 1080P Video Camera Professional Digital Camcorder 2.7 Inches 16MP High Definition ABS FHD DV Cameras 270 Degree Rotation\n",
      "No reviews for the product  Silicon Cover for Nikon D750 Camera Case, Professional Silicone Rubber Camera Case Cover -Camouflage\n",
      "No reviews for the product  M S TECH Mini Full HD 960P Camera Professional Wireless WiFi Home IP/AP Camera Camcorder Monitor Night Vision Secret Security cam (Not Battery Operated, Black)\n",
      "No reviews for the product  PROVENT 3110 Mobile and Camera Tripod - Universal Portable & Foldable Professional SLR DSLR Camera Stand for Photography and Videography Tripod\n",
      "No reviews for the product  Boosty® Universal Professional Photographers Lightweight DSLR Camera Lens Backpack Bag with Free Bag rain Cover (Multicolor)\n",
      "No reviews for the product  Teconica UY45 10 Inch Big LED Professional 3 Brightness Level Dimmable Light with 7 Feet Adjustable & Foldable Tripod for Photo-Shoot | Video Shooting & Make-up for Camera and Mobile\n",
      "No reviews for the product  Silicon Cover for Nikon D7000 Camera Case, Professional Silicone Rubber Camera Case Cover Detachable Protective for Nikon D7000 - Camouflage\n",
      "No reviews for the product  Silicon Cover for Canon 5D Mark IV Camera Case, Professional Silicone Rubber Camera Case Cover Detachable Protective for Canon 5D Mark IV - RED\n",
      "No reviews for the product  Canon PIXMA G570 Single Function (Print only) 6-Colour Inktank Wi-Fi Photo Printer\n",
      "No reviews for the product  DCC Laserjet Pro CP1025nw\n",
      "No reviews for the product  Flex Printing Machine Dust-Free Cloth 9 * 9, Cleening Cloth Solvent Printing Machine\n",
      "No reviews for the product  LushTree 51\" L Shaped Professional Computer Workstation with Round Corner & Monitor Stand (Black)\n",
      "No reviews for the product  The D-Link Wireless N300 Router Wireless Internet for Home Gaming Parental Control Wi-Fi, Black (DIR-615)\n"
     ]
    }
   ],
   "source": [
    "#Code for scraping data from amazon\n",
    "\n",
    "for p in products: #looping\n",
    "    \n",
    "    search_box_amazon = driver.find_element_by_id(\"twotabsearchtextbox\") #search box\n",
    "    search_btn_amazon = driver.find_element_by_id(\"nav-search-submit-button\") #search button\n",
    "    \n",
    "    search_box_amazon.clear() #clearing the text... needed from second loop onwards\n",
    "    search_box_amazon.send_keys(p) #input the keyword to search\n",
    "    search_btn_amazon.click() #clicking on the search button\n",
    "    \n",
    "    time.sleep(1)\n",
    "    driver.execute_script(\"window.scrollTo(0,document.body.scrollHeight);\") #scrolling to the bottom just to load the entire page\n",
    "    \n",
    "    \n",
    "    for number in range (0,2): # loop for scraping only from 3 pages of search list generated\n",
    "        search_list = driver.find_elements_by_xpath(\"//div[@class='a-section a-spacing-none']//h2//a//span\") #products in search list\n",
    "\n",
    "        for i in search_list:\n",
    "            product = i.text\n",
    "            try:\n",
    "                i.click() #clicking on the product to open its page\n",
    "            except:\n",
    "                continue\n",
    "            \n",
    "            driver.switch_to.window(driver.window_handles[-1]) #switching to the product page\n",
    "            time.sleep(1)\n",
    "            driver.execute_script(\"window.scrollTo(0,document.body.scrollHeight);\")\n",
    "            try:\n",
    "                stars = driver.find_element_by_xpath(\"//table[@id = 'histogramTable']//tr//td[1]//span//a\") #ratings element\n",
    "                stars.click() #proceeding to the ratings page\n",
    "            except:\n",
    "                print(\"No reviews for the product \" , product) #if no reviews, helps us to know\n",
    "    \n",
    "            driver.execute_script(\"window.scrollTo(0,document.body.scrollHeight);\")\n",
    "            time.sleep(2)\n",
    "        \n",
    "            stars_select = driver.find_elements_by_xpath(\"//table[@id = 'histogramTable']//tr//td[1]//span//a\") #list of rating stars\n",
    "        \n",
    "            for s in stars_select: #each loop - each star\n",
    "                s.click() #loading selected star reviews\n",
    "                time.sleep(1)\n",
    "            \n",
    "            \n",
    "                for num in range(0,2): #reviews in first three pages of selected star\n",
    "                    \n",
    "                    reviews_title = driver.find_elements_by_xpath(\"//div[@data-hook = 'review']//a[@data-hook = 'review-title']\") #just knowing the no.of reviews\n",
    "        \n",
    "                    for j in range(len(reviews_title)): #helps to scrape individual row and adding to dataframe\n",
    "                        \n",
    "                        row = [] #empty row\n",
    "                        \n",
    "                        try: #to handle the missing review content\n",
    "                            \n",
    "                            #specific title and content for same element\n",
    "                            reviews_title = driver.find_element_by_xpath(\"//div[@data-hook = 'review'][{}]//a[@data-hook = 'review-title']\".format(j+1))\n",
    "                            reviews_content =  driver.find_element_by_xpath(\"//div[@data-hook = 'review'][{}]//span[@data-hook = 'review-body']//span\".format(j+1))\n",
    "                        \n",
    "                            #creating the data row\n",
    "                            row.append(p)\n",
    "                            row.append(reviews_title.text)\n",
    "                            row.append(reviews_content.text)\n",
    "                            row.append(s.text)\n",
    "                        except:\n",
    "                            continue #skips the next part in loop if anything is missing in the above data row\n",
    "                            \n",
    "                        df1 = pd.DataFrame([row] , columns=columns)\n",
    "                        df = pd.concat([df,df1],ignore_index=True)\n",
    "                \n",
    "                    try: #to handle no next page error\n",
    "                        next_btn  = driver.find_element_by_xpath(\"//div[@role='navigation']//li[@class='a-last']//a\")\n",
    "                        next_btn.click()\n",
    "                        time.sleep(2)\n",
    "                    except:\n",
    "                        break #breaks the current loop if there are no more reviews.\n",
    "        \n",
    "            driver.close() #closing the reviews page\n",
    "            driver.switch_to_window(driver.window_handles[0]) #switching to the main page (search list page)\n",
    "            \n",
    "            \n",
    "        driver.execute_script(\"window.scrollTo(0,document.body.scrollHeight);\")\n",
    "        \n",
    "        #next page of search_list\n",
    "        next_btn  = driver.find_element_by_xpath(\"//div[@role='navigation']//ul[@class='a-pagination']//li[@class='a-last']//a\")\n",
    "        next_btn.click()\n",
    "        time.sleep(1)"
   ]
  },
  {
   "cell_type": "code",
   "execution_count": 124,
   "metadata": {},
   "outputs": [
    {
     "data": {
      "text/html": [
       "<div>\n",
       "<style scoped>\n",
       "    .dataframe tbody tr th:only-of-type {\n",
       "        vertical-align: middle;\n",
       "    }\n",
       "\n",
       "    .dataframe tbody tr th {\n",
       "        vertical-align: top;\n",
       "    }\n",
       "\n",
       "    .dataframe thead th {\n",
       "        text-align: right;\n",
       "    }\n",
       "</style>\n",
       "<table border=\"1\" class=\"dataframe\">\n",
       "  <thead>\n",
       "    <tr style=\"text-align: right;\">\n",
       "      <th></th>\n",
       "      <th>Product type</th>\n",
       "      <th>Title</th>\n",
       "      <th>Review</th>\n",
       "      <th>Rating</th>\n",
       "    </tr>\n",
       "  </thead>\n",
       "  <tbody>\n",
       "    <tr>\n",
       "      <th>23039</th>\n",
       "      <td>Router</td>\n",
       "      <td>Below Average. Doesn’t meet expectations.</td>\n",
       "      <td>Below Average. Every year antivirus Netgear Ar...</td>\n",
       "      <td>1 star</td>\n",
       "    </tr>\n",
       "    <tr>\n",
       "      <th>23040</th>\n",
       "      <td>Router</td>\n",
       "      <td>This brand is no more what it once was!</td>\n",
       "      <td>Don't buy this. There is constant drop in conn...</td>\n",
       "      <td>1 star</td>\n",
       "    </tr>\n",
       "    <tr>\n",
       "      <th>23041</th>\n",
       "      <td>Router</td>\n",
       "      <td>Waste of money and no support from Netgear</td>\n",
       "      <td>Don't buy this product, they said it increases...</td>\n",
       "      <td>1 star</td>\n",
       "    </tr>\n",
       "    <tr>\n",
       "      <th>23042</th>\n",
       "      <td>Router</td>\n",
       "      <td>Waste of Money</td>\n",
       "      <td>Network not reachable if door closed. the dist...</td>\n",
       "      <td>1 star</td>\n",
       "    </tr>\n",
       "    <tr>\n",
       "      <th>23043</th>\n",
       "      <td>Router</td>\n",
       "      <td>The seller sent a used piece</td>\n",
       "      <td>The seller sent a used piece. No value for mon...</td>\n",
       "      <td>1 star</td>\n",
       "    </tr>\n",
       "  </tbody>\n",
       "</table>\n",
       "</div>"
      ],
      "text/plain": [
       "      Product type                                       Title  \\\n",
       "23039       Router   Below Average. Doesn’t meet expectations.   \n",
       "23040       Router     This brand is no more what it once was!   \n",
       "23041       Router  Waste of money and no support from Netgear   \n",
       "23042       Router                              Waste of Money   \n",
       "23043       Router                The seller sent a used piece   \n",
       "\n",
       "                                                  Review  Rating  \n",
       "23039  Below Average. Every year antivirus Netgear Ar...  1 star  \n",
       "23040  Don't buy this. There is constant drop in conn...  1 star  \n",
       "23041  Don't buy this product, they said it increases...  1 star  \n",
       "23042  Network not reachable if door closed. the dist...  1 star  \n",
       "23043  The seller sent a used piece. No value for mon...  1 star  "
      ]
     },
     "execution_count": 124,
     "metadata": {},
     "output_type": "execute_result"
    }
   ],
   "source": [
    "# just to check the number of rows scraped.\n",
    "df.tail()"
   ]
  },
  {
   "cell_type": "code",
   "execution_count": 127,
   "metadata": {},
   "outputs": [
    {
     "data": {
      "text/plain": [
       "5 star    5516\n",
       "1 star    4881\n",
       "4 star    4784\n",
       "3 star    4163\n",
       "2 star    3700\n",
       "Name: Rating, dtype: int64"
      ]
     },
     "execution_count": 127,
     "metadata": {},
     "output_type": "execute_result"
    }
   ],
   "source": [
    "#checking if number of rows for each star\n",
    "df.Rating.value_counts()"
   ]
  },
  {
   "cell_type": "markdown",
   "metadata": {},
   "source": [
    "It looks like the rating column is balanced."
   ]
  },
  {
   "cell_type": "code",
   "execution_count": 128,
   "metadata": {},
   "outputs": [],
   "source": [
    "# saving the data to csv file\n",
    "df.to_csv(\"Ratings_data.csv\")"
   ]
  },
  {
   "cell_type": "code",
   "execution_count": 129,
   "metadata": {},
   "outputs": [
    {
     "data": {
      "text/plain": [
       "Product type    0\n",
       "Title           0\n",
       "Review          0\n",
       "Rating          0\n",
       "dtype: int64"
      ]
     },
     "execution_count": 129,
     "metadata": {},
     "output_type": "execute_result"
    }
   ],
   "source": [
    "df.isnull().sum()"
   ]
  },
  {
   "cell_type": "code",
   "execution_count": null,
   "metadata": {},
   "outputs": [],
   "source": []
  }
 ],
 "metadata": {
  "kernelspec": {
   "display_name": "Python 3",
   "language": "python",
   "name": "python3"
  },
  "language_info": {
   "codemirror_mode": {
    "name": "ipython",
    "version": 3
   },
   "file_extension": ".py",
   "mimetype": "text/x-python",
   "name": "python",
   "nbconvert_exporter": "python",
   "pygments_lexer": "ipython3",
   "version": "3.8.5"
  }
 },
 "nbformat": 4,
 "nbformat_minor": 4
}
